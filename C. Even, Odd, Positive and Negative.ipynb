{
 "cells": [
  {
   "cell_type": "code",
   "execution_count": null,
   "id": "9a5cb4e6",
   "metadata": {},
   "outputs": [
    {
     "name": "stdout",
     "output_type": "stream",
     "text": [
      "Positive: 1\n",
      "Negative: 3\n",
      "Even: 3\n",
      "Odd: 2\n"
     ]
    }
   ],
   "source": [
    "#Input Gula nilam\n",
    "n = int(input())\n",
    "inp = input()\n",
    "numbers = inp.split()\n",
    "#print(numbers)\n",
    "\n",
    "#2) \n",
    "positive = 0; negative = 0; even = 0; odd = 0; \n",
    "\n",
    "\n",
    "#1) রেঞ্জ loop ব্যবহার করে ইনডেক্সের সবকটি নাম্বার x এর মধ্যে স্টোর করলাম \n",
    "for i in range(n) : \n",
    "    x = int(numbers[i])\n",
    "\n",
    "#3)এবার প্রত্যেকবার loop চলার সময় x  চেক করে দেখবে এটা পজিটিভ নেগেটিভ  \n",
    "    if x > 0 : \n",
    "       positive = positive + 1\n",
    "    elif x < 0 :\n",
    "       negative = negative + 1\n",
    "\n",
    "    if x % 2 == 1 : \n",
    "        odd = odd + 1 \n",
    "    elif x % 2 == 0 :\n",
    "        even = even + 1\n",
    "\n",
    "\n",
    "print(\"Even:\", even)\n",
    "print(\"Odd:\", odd)\n",
    "print(\"Positive:\", positive)\n",
    "print(\"Negative:\", negative)\n",
    "\n",
    "\n",
    "\n"
   ]
  }
 ],
 "metadata": {
  "kernelspec": {
   "display_name": "Python 3",
   "language": "python",
   "name": "python3"
  },
  "language_info": {
   "codemirror_mode": {
    "name": "ipython",
    "version": 3
   },
   "file_extension": ".py",
   "mimetype": "text/x-python",
   "name": "python",
   "nbconvert_exporter": "python",
   "pygments_lexer": "ipython3",
   "version": "3.12.4"
  }
 },
 "nbformat": 4,
 "nbformat_minor": 5
}
