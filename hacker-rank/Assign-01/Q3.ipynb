{
 "cells": [
  {
   "cell_type": "markdown",
   "id": "af27a5ad",
   "metadata": {},
   "source": [
    "Find and print the longest word in a given sentence (if tie, print first one).\n",
    "\n",
    "Input Format:\n",
    "\n",
    "One line string\n",
    "\n",
    "Output Format: Longest word\n",
    "\n",
    "Example:\n",
    "\n",
    "Input: Python programming is enjoyable\n",
    "\n",
    "Output: programming"
   ]
  },
  {
   "cell_type": "code",
   "execution_count": 1,
   "id": "97cc3ac2",
   "metadata": {},
   "outputs": [
    {
     "name": "stdout",
     "output_type": "stream",
     "text": [
      "programming\n"
     ]
    }
   ],
   "source": [
    "full_text = input().strip()\n",
    "words = full_text.split()\n",
    "\n",
    "\n",
    "longest_word = words[0]\n",
    "\n",
    "for word in words :\n",
    "  if len(word) > len(longest_word) :\n",
    "    longest_word = word\n",
    "\n",
    "print(longest_word)"
   ]
  }
 ],
 "metadata": {
  "kernelspec": {
   "display_name": "Python 3",
   "language": "python",
   "name": "python3"
  },
  "language_info": {
   "codemirror_mode": {
    "name": "ipython",
    "version": 3
   },
   "file_extension": ".py",
   "mimetype": "text/x-python",
   "name": "python",
   "nbconvert_exporter": "python",
   "pygments_lexer": "ipython3",
   "version": "3.12.4"
  }
 },
 "nbformat": 4,
 "nbformat_minor": 5
}
