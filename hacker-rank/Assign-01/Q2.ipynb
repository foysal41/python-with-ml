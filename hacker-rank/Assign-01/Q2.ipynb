{
 "cells": [
  {
   "cell_type": "markdown",
   "id": "c3ad4021",
   "metadata": {},
   "source": [
    "Write a function safe_divide(a, b) that performs a/b and handles division by zero using try-except.\n",
    "\n",
    "Print \"Division by zero\" if b = 0.\n",
    "\n",
    "Input Format:\n",
    "\n",
    "Two integers a b.\n",
    "\n",
    "Output Format:\n",
    "\n",
    "Result or error message.\n",
    "\n",
    "Example:\n",
    "\n",
    "Input: 10 0\n",
    "\n",
    "Output: Division by zero"
   ]
  },
  {
   "cell_type": "code",
   "execution_count": 1,
   "id": "c7d344d1",
   "metadata": {},
   "outputs": [
    {
     "name": "stdout",
     "output_type": "stream",
     "text": [
      "Divition by zero\n"
     ]
    }
   ],
   "source": [
    "\n",
    "\n",
    "def safe_divide(a,b):\n",
    "  try:\n",
    "    result = a /b\n",
    "    print(result)\n",
    "  except Exception as e :\n",
    "    print(\"Divition by zero\")\n",
    "\n",
    "a,b = map(int, input().split())\n",
    "\n",
    "safe_divide(a, b)"
   ]
  }
 ],
 "metadata": {
  "kernelspec": {
   "display_name": "Python 3",
   "language": "python",
   "name": "python3"
  },
  "language_info": {
   "codemirror_mode": {
    "name": "ipython",
    "version": 3
   },
   "file_extension": ".py",
   "mimetype": "text/x-python",
   "name": "python",
   "nbconvert_exporter": "python",
   "pygments_lexer": "ipython3",
   "version": "3.12.4"
  }
 },
 "nbformat": 4,
 "nbformat_minor": 5
}
