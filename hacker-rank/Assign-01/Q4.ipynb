{
 "cells": [
  {
   "cell_type": "markdown",
   "id": "75485ac8",
   "metadata": {},
   "source": [
    "A number is called strong if the sum of the factorial of its digits equals the number itself.\n",
    "\n",
    "Example: 145 = 1! + 4 + 5!\n",
    "\n",
    "Input Format:\n",
    "\n",
    "Single integer\n",
    "\n",
    "Output Format:\n",
    "\n",
    "\"Strong Number\" or \"Not Strong Number\"\n",
    "\n",
    "Example:\n",
    "\n",
    "Input:\n",
    "\n",
    "145\n",
    "\n",
    "Output: Strong Number"
   ]
  },
  {
   "cell_type": "code",
   "execution_count": 1,
   "id": "a5ca4f31",
   "metadata": {},
   "outputs": [
    {
     "name": "stdout",
     "output_type": "stream",
     "text": [
      "Strong Number\n"
     ]
    }
   ],
   "source": [
    "import math\n",
    "n = int(input())\n",
    "original = n\n",
    "sum_of_factorial = 0\n",
    "\n",
    "while n > 0 :\n",
    "  number = n % 10\n",
    "  fact_number = math.factorial(number)\n",
    "  sum_of_factorial = fact_number + sum_of_factorial\n",
    "  n = n // 10\n",
    "\n",
    "\n",
    "if sum_of_factorial == original :\n",
    "  print(\"Strong Number\")\n",
    "else :\n",
    "  print(\"Not Strong Number\")\n",
    "\n"
   ]
  }
 ],
 "metadata": {
  "kernelspec": {
   "display_name": "Python 3",
   "language": "python",
   "name": "python3"
  },
  "language_info": {
   "codemirror_mode": {
    "name": "ipython",
    "version": 3
   },
   "file_extension": ".py",
   "mimetype": "text/x-python",
   "name": "python",
   "nbconvert_exporter": "python",
   "pygments_lexer": "ipython3",
   "version": "3.12.4"
  }
 },
 "nbformat": 4,
 "nbformat_minor": 5
}
