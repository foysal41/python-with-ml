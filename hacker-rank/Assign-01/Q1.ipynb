{
 "cells": [
  {
   "cell_type": "markdown",
   "id": "94e67711",
   "metadata": {},
   "source": [
    "Using filter() and lambda, extract even numbers from a given list.\n",
    "\n",
    "Input Format:\n",
    "\n",
    "Integers separated by space.\n",
    "\n",
    "Output Format:\n",
    "\n",
    "List of even integers.\n",
    "\n",
    "Example:\n",
    "\n",
    "Input: 5 6 7 8 9 10\n",
    "\n",
    "Output: [6, 8, 10]"
   ]
  },
  {
   "cell_type": "code",
   "execution_count": 1,
   "id": "d0a941c3",
   "metadata": {},
   "outputs": [
    {
     "name": "stdout",
     "output_type": "stream",
     "text": [
      "[6, 8, 10]\n"
     ]
    }
   ],
   "source": [
    "numbers = map(int, input().split())\n",
    "evens = list(filter(lambda x : x % 2 == 0, numbers))\n",
    "\n",
    "print(evens)\n"
   ]
  }
 ],
 "metadata": {
  "kernelspec": {
   "display_name": "Python 3",
   "language": "python",
   "name": "python3"
  },
  "language_info": {
   "codemirror_mode": {
    "name": "ipython",
    "version": 3
   },
   "file_extension": ".py",
   "mimetype": "text/x-python",
   "name": "python",
   "nbconvert_exporter": "python",
   "pygments_lexer": "ipython3",
   "version": "3.12.4"
  }
 },
 "nbformat": 4,
 "nbformat_minor": 5
}
