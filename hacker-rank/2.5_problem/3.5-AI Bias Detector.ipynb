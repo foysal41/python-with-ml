{
 "cells": [
  {
   "cell_type": "code",
   "execution_count": 1,
   "id": "d902efac",
   "metadata": {},
   "outputs": [
    {
     "name": "stdout",
     "output_type": "stream",
     "text": [
      "Fair Model\n"
     ]
    }
   ],
   "source": [
    "inp = input()\n",
    "predictions = inp.split()\n",
    "count_a = predictions.count(\"A\")\n",
    "count_b = predictions.count(\"B\")\n",
    "total_lenth = len(predictions)\n",
    "\n",
    "percentage_a = int((count_a / total_lenth) * 100)\n",
    "percentage_b = int((count_b / total_lenth) * 100)\n",
    "\n",
    "if percentage_a > 70 or percentage_b > 70 :\n",
    "  print(\"Biased Model\")\n",
    "else : \n",
    "  print(\"Fair Model\")\n"
   ]
  }
 ],
 "metadata": {
  "kernelspec": {
   "display_name": "Python 3",
   "language": "python",
   "name": "python3"
  },
  "language_info": {
   "codemirror_mode": {
    "name": "ipython",
    "version": 3
   },
   "file_extension": ".py",
   "mimetype": "text/x-python",
   "name": "python",
   "nbconvert_exporter": "python",
   "pygments_lexer": "ipython3",
   "version": "3.12.4"
  }
 },
 "nbformat": 4,
 "nbformat_minor": 5
}
