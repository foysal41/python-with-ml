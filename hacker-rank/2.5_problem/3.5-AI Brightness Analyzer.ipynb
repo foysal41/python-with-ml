{
 "cells": [
  {
   "cell_type": "code",
   "execution_count": 2,
   "id": "9e8fa92a",
   "metadata": {},
   "outputs": [
    {
     "name": "stdout",
     "output_type": "stream",
     "text": [
      "Bright Image\n"
     ]
    }
   ],
   "source": [
    "\n",
    "brightness =list(map(int,input().split()))\n",
    "avg_brightness = sum(brightness) / len(brightness)\n",
    "\n",
    "if avg_brightness  < 85 :\n",
    "  print(\"Dark Image\")\n",
    "elif avg_brightness <= 170 :\n",
    "  print(\"Normal Image\")\n",
    "else :\n",
    "  print(\"Bright Image\")\n",
    "\n"
   ]
  }
 ],
 "metadata": {
  "kernelspec": {
   "display_name": "Python 3",
   "language": "python",
   "name": "python3"
  },
  "language_info": {
   "codemirror_mode": {
    "name": "ipython",
    "version": 3
   },
   "file_extension": ".py",
   "mimetype": "text/x-python",
   "name": "python",
   "nbconvert_exporter": "python",
   "pygments_lexer": "ipython3",
   "version": "3.12.4"
  }
 },
 "nbformat": 4,
 "nbformat_minor": 5
}
