{
 "cells": [
  {
   "cell_type": "code",
   "execution_count": 3,
   "id": "4721a64a",
   "metadata": {},
   "outputs": [
    {
     "name": "stdout",
     "output_type": "stream",
     "text": [
      "Not AI Related\n"
     ]
    }
   ],
   "source": [
    "message = input().strip()\n",
    "keywords = [\"ai\", \"data\", \"model\", \"learn\", \"train\", \"neural\"]\n",
    "\n",
    "count = 0\n",
    "\n",
    "for word in keywords :\n",
    "    if word in message :\n",
    "        count += 1\n",
    "\n",
    "if count > 2 :\n",
    "    print(\"AI Detected\")\n",
    "else :\n",
    "    print(\"Not AI Related\")\n"
   ]
  }
 ],
 "metadata": {
  "kernelspec": {
   "display_name": "Python 3",
   "language": "python",
   "name": "python3"
  },
  "language_info": {
   "codemirror_mode": {
    "name": "ipython",
    "version": 3
   },
   "file_extension": ".py",
   "mimetype": "text/x-python",
   "name": "python",
   "nbconvert_exporter": "python",
   "pygments_lexer": "ipython3",
   "version": "3.12.4"
  }
 },
 "nbformat": 4,
 "nbformat_minor": 5
}
