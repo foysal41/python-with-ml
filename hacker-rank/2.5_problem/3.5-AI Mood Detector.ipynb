{
 "cells": [
  {
   "cell_type": "code",
   "execution_count": 1,
   "id": "a09cbddf",
   "metadata": {},
   "outputs": [
    {
     "name": "stdout",
     "output_type": "stream",
     "text": [
      "Neutral Mood\n"
     ]
    }
   ],
   "source": [
    "user_input = input()\n",
    "\n",
    "if \"happy\" in user_input or \"smile\" in user_input or \"joy\" in user_input :\n",
    "  print(\"Happy Mood\")\n",
    "elif \"sad\" in user_input or \"cry\" in user_input or\"angry\" in user_input :\n",
    "  print(\"Sad Mood\")\n",
    "else :\n",
    "  print(\"Neutral Mood\")"
   ]
  }
 ],
 "metadata": {
  "kernelspec": {
   "display_name": "Python 3",
   "language": "python",
   "name": "python3"
  },
  "language_info": {
   "codemirror_mode": {
    "name": "ipython",
    "version": 3
   },
   "file_extension": ".py",
   "mimetype": "text/x-python",
   "name": "python",
   "nbconvert_exporter": "python",
   "pygments_lexer": "ipython3",
   "version": "3.12.4"
  }
 },
 "nbformat": 4,
 "nbformat_minor": 5
}
