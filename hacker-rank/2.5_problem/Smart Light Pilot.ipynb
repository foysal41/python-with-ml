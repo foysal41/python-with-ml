{
 "cells": [
  {
   "cell_type": "code",
   "execution_count": null,
   "id": "f268d684",
   "metadata": {},
   "outputs": [],
   "source": [
    "bringhtness , threshold = map(int, input().split())\n",
    "\n",
    "if bringhtness >= threshold :\n",
    "  print(\"ON\")\n",
    "else :\n",
    "  print(\"OFF\")\n"
   ]
  }
 ],
 "metadata": {
  "language_info": {
   "name": "python"
  }
 },
 "nbformat": 4,
 "nbformat_minor": 5
}
