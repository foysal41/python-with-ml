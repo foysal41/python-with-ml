{
 "cells": [
  {
   "cell_type": "code",
   "execution_count": null,
   "id": "70260fb9",
   "metadata": {},
   "outputs": [],
   "source": [
    "x, min_v, max_v = map(float, input().split())\n",
    "\n",
    "norm = (x-min_v) / (max_v - min_v)\n",
    "\n",
    "print(format(norm, \".2f\"))"
   ]
  }
 ],
 "metadata": {
  "language_info": {
   "name": "python"
  }
 },
 "nbformat": 4,
 "nbformat_minor": 5
}
