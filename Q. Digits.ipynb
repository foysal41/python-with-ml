{
 "cells": [
  {
   "cell_type": "code",
   "execution_count": 1,
   "id": "860c800e",
   "metadata": {},
   "outputs": [
    {
     "name": "stdout",
     "output_type": "stream",
     "text": [
      "0 2 \n",
      "0\n"
     ]
    }
   ],
   "source": [
    "t = int(input())\n",
    "\n",
    "for i in range(t) : \n",
    "    number = int(input())\n",
    "    if number == 0 :\n",
    "        print(0)\n",
    "        continue\n",
    "\n",
    "    while number > 0 : \n",
    "        print(number % 10, end=\" \")\n",
    "        number = int(number / 10)\n",
    "    print()"
   ]
  }
 ],
 "metadata": {
  "kernelspec": {
   "display_name": "Python 3",
   "language": "python",
   "name": "python3"
  },
  "language_info": {
   "codemirror_mode": {
    "name": "ipython",
    "version": 3
   },
   "file_extension": ".py",
   "mimetype": "text/x-python",
   "name": "python",
   "nbconvert_exporter": "python",
   "pygments_lexer": "ipython3",
   "version": "3.12.4"
  }
 },
 "nbformat": 4,
 "nbformat_minor": 5
}
