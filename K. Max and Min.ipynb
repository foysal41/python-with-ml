{
 "cells": [
  {
   "cell_type": "code",
   "execution_count": 1,
   "id": "3ecd0a06",
   "metadata": {},
   "outputs": [
    {
     "name": "stdout",
     "output_type": "stream",
     "text": [
      "1 3\n"
     ]
    }
   ],
   "source": [
    "inp = input()\n",
    "number = inp.split()\n",
    "\n",
    "#Array থেকে সবকটি নাম্বার বের করে নিয়ে আসলাম \n",
    "x = int(number[0])\n",
    "y = int(number[1])\n",
    "z = int(number[2])\n",
    "\n",
    "#ধরে নিলাম এক্স মিনিমাম এবং ম্যাক্সিমাম \n",
    "min =  x\n",
    "max = x\n",
    "\n",
    "\n",
    "if y < min :\n",
    "    min = y\n",
    "if z < min :\n",
    "    min = z\n",
    "\n",
    "if y > max : \n",
    "    max = y\n",
    "if z > max :\n",
    "    max = z\n",
    "\n",
    "print(min, max)\n",
    "    "
   ]
  }
 ],
 "metadata": {
  "kernelspec": {
   "display_name": "Python 3",
   "language": "python",
   "name": "python3"
  },
  "language_info": {
   "codemirror_mode": {
    "name": "ipython",
    "version": 3
   },
   "file_extension": ".py",
   "mimetype": "text/x-python",
   "name": "python",
   "nbconvert_exporter": "python",
   "pygments_lexer": "ipython3",
   "version": "3.12.4"
  }
 },
 "nbformat": 4,
 "nbformat_minor": 5
}
